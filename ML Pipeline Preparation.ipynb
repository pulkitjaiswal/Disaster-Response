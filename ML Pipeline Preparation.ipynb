{
 "cells": [
  {
   "cell_type": "markdown",
   "metadata": {},
   "source": [
    "# ML Pipeline Preparation\n",
    "Follow the instructions below to help you create your ML pipeline.\n",
    "### 1. Import libraries and load data from database.\n",
    "- Import Python libraries\n",
    "- Load dataset from database with [`read_sql_table`](https://pandas.pydata.org/pandas-docs/stable/generated/pandas.read_sql_table.html)\n",
    "- Define feature and target variables X and Y"
   ]
  },
  {
   "cell_type": "code",
   "execution_count": 17,
   "metadata": {},
   "outputs": [
    {
     "name": "stdout",
     "output_type": "stream",
     "text": [
      "[nltk_data] Downloading package punkt to\n",
      "[nltk_data]     C:\\Users\\binwan\\AppData\\Roaming\\nltk_data...\n",
      "[nltk_data]   Package punkt is already up-to-date!\n",
      "[nltk_data] Downloading package stopwords to\n",
      "[nltk_data]     C:\\Users\\binwan\\AppData\\Roaming\\nltk_data...\n",
      "[nltk_data]   Package stopwords is already up-to-date!\n",
      "[nltk_data] Downloading package wordnet to\n",
      "[nltk_data]     C:\\Users\\binwan\\AppData\\Roaming\\nltk_data...\n",
      "[nltk_data]   Package wordnet is already up-to-date!\n"
     ]
    },
    {
     "data": {
      "text/plain": [
       "True"
      ]
     },
     "execution_count": 17,
     "metadata": {},
     "output_type": "execute_result"
    }
   ],
   "source": [
    "# import libraries\n",
    "import pandas as pd\n",
    "import numpy as np\n",
    "from sqlalchemy import create_engine\n",
    "import sys\n",
    "import re\n",
    "import pickle\n",
    "import nltk\n",
    "from nltk.tokenize import word_tokenize,sent_tokenize\n",
    "from nltk.stem import WordNetLemmatizer\n",
    "from nltk.corpus import stopwords\n",
    "from sklearn.metrics import confusion_matrix\n",
    "from sklearn.model_selection import train_test_split\n",
    "from sklearn.tree import DecisionTreeClassifier\n",
    "from sklearn.ensemble import RandomForestClassifier,AdaBoostClassifier\n",
    "from sklearn.naive_bayes import MultinomialNB\n",
    "from sklearn.feature_extraction.text import CountVectorizer, TfidfTransformer, TfidfVectorizer\n",
    "from sklearn.multioutput import MultiOutputClassifier\n",
    "from sklearn.pipeline import Pipeline\n",
    "from sklearn.metrics import precision_recall_fscore_support,accuracy_score,label_ranking_average_precision_score\n",
    "from sklearn.model_selection  import GridSearchCV\n",
    "\n",
    "nltk.download(['punkt','stopwords','wordnet'])"
   ]
  },
  {
   "cell_type": "code",
   "execution_count": 8,
   "metadata": {},
   "outputs": [],
   "source": [
    "def load_data(db_path='workspace/data/DisasterResponse.db',tablename='disastertab'):\n",
    "    \"\"\"\n",
    "    Function: load data from database and return X and y.\n",
    "    Args:\n",
    "      db_path(str): database file name included path\n",
    "      tablename:(str): table name in the database file.\n",
    "    Return:\n",
    "      X(pd.DataFrame): messages for X\n",
    "      y(pd.DataFrame): labels part in messages for y\n",
    "    \"\"\"\n",
    "    # load data from database\n",
    "    engine = create_engine('sqlite:///'+db_path)\n",
    "    df=pd.read_sql_table(tablename, engine)\n",
    "    X = df['message']\n",
    "    # result is multiple classifty.\n",
    "    y = df.iloc[:,4:]\n",
    "    return X, y"
   ]
  },
  {
   "cell_type": "code",
   "execution_count": 9,
   "metadata": {},
   "outputs": [],
   "source": [
    "X,y=load_data()"
   ]
  },
  {
   "cell_type": "code",
   "execution_count": 10,
   "metadata": {},
   "outputs": [
    {
     "name": "stdout",
     "output_type": "stream",
     "text": [
      "['Weather update - a cold front from Cuba that could pass over Haiti', 'Is the Hurricane over or is it not over', 'Looking for someone but no name', 'UN reports Leogane 80-90 destroyed. Only Hospital St. Croix functioning. Needs supplies desperately.', 'says: west side of Haiti, rest of the country today and tonight']\n"
     ]
    }
   ],
   "source": [
    "print(X[:5].values.tolist())\n",
    "#need sent_tokenize to parse X."
   ]
  },
  {
   "cell_type": "markdown",
   "metadata": {},
   "source": [
    "### 2. Write a tokenization function to process your text data"
   ]
  },
  {
   "cell_type": "code",
   "execution_count": 6,
   "metadata": {
    "collapsed": true
   },
   "outputs": [],
   "source": [
    "def tokenize(text):\n",
    "    \"\"\"\n",
    "    Function: tokenize the text\n",
    "    Args:  source string\n",
    "    Return:\n",
    "    clean_tokens(str list): clean string list\n",
    "    \n",
    "    \"\"\"\n",
    "    #normalize text\n",
    "    text = re.sub(r'[^a-zA-Z0-9]',' ',text.lower())\n",
    "    \n",
    "    #token messages\n",
    "    words = word_tokenize(text)\n",
    "    tokens = [w for w in words if w not in stopwords.words(\"english\")]\n",
    "    \n",
    "    #sterm and lemmatizer\n",
    "    lemmatizer = WordNetLemmatizer()\n",
    "    clean_tokens = []\n",
    "    for tok in tokens:\n",
    "        clean_tok = lemmatizer.lemmatize(tok).strip()\n",
    "        clean_tokens.append(clean_tok)\n",
    "\n",
    "    return clean_tokens"
   ]
  },
  {
   "cell_type": "markdown",
   "metadata": {},
   "source": [
    "### 3. Build a machine learning pipeline\n",
    "- You'll find the [MultiOutputClassifier](http://scikit-learn.org/stable/modules/generated/sklearn.multioutput.MultiOutputClassifier.html) helpful for predicting multiple target variables."
   ]
  },
  {
   "cell_type": "code",
   "execution_count": 7,
   "metadata": {
    "collapsed": true
   },
   "outputs": [],
   "source": [
    "pipeline = Pipeline([\n",
    "    ('vect',TfidfVectorizer(tokenizer=tokenize)),\n",
    "    ('clf', MultiOutputClassifier(RandomForestClassifier(n_estimators=200)))\n",
    "])"
   ]
  },
  {
   "cell_type": "markdown",
   "metadata": {},
   "source": [
    "### 4. Train pipeline\n",
    "- Split data into train and test sets\n",
    "- Train pipeline"
   ]
  },
  {
   "cell_type": "code",
   "execution_count": 11,
   "metadata": {},
   "outputs": [
    {
     "data": {
      "text/plain": [
       "Pipeline(memory=None,\n",
       "     steps=[('vect', TfidfVectorizer(analyzer='word', binary=False, decode_error='strict',\n",
       "        dtype=<class 'numpy.int64'>, encoding='utf-8', input='content',\n",
       "        lowercase=True, max_df=1.0, max_features=None, min_df=1,\n",
       "        ngram_range=(1, 1), norm='l2', preprocessor=None, smooth_idf=True,\n",
       "  ...oob_score=False, random_state=None, verbose=0,\n",
       "            warm_start=False),\n",
       "           n_jobs=1))])"
      ]
     },
     "execution_count": 11,
     "metadata": {},
     "output_type": "execute_result"
    }
   ],
   "source": [
    "X_train,X_test,y_train,y_test=train_test_split(X,y,test_size=0.2, random_state=42)\n",
    "pipeline.fit(X_train,y_train)"
   ]
  },
  {
   "cell_type": "markdown",
   "metadata": {},
   "source": [
    "### 5. Test your model\n",
    "Report the f1 score, precision and recall for each output category of the dataset. You can do this by iterating through the columns and calling sklearn's `classification_report` on each."
   ]
  },
  {
   "cell_type": "code",
   "execution_count": 18,
   "metadata": {
    "collapsed": true
   },
   "outputs": [],
   "source": [
    "\n",
    "\n",
    "def display_results(Y_test, y_pred):\n",
    "    \n",
    "    result=precision_recall_fscore_support(Y_test, y_pred)\n",
    "    for i, col in enumerate(Y_test.columns.values):\n",
    "        accu=accuracy_score(Y_test.loc[:,col],y_pred[:,i])\n",
    "        score = ('{}\\n Accuracy:  {:.4f}   % Precision: {:.4f}   % Recall {:.4f} '.format(\n",
    "                  col,accu,result[0][i],result[1][i]))\n",
    "        print(score)\n",
    "    avg_precision = label_ranking_average_precision_score(Y_test, y_pred)\n",
    "    avg_score= ('label ranking average precision: {}'.format(avg_precision))\n",
    "    print(avg_score)\n",
    "    \n",
    "    "
   ]
  },
  {
   "cell_type": "code",
   "execution_count": 13,
   "metadata": {
    "collapsed": true
   },
   "outputs": [],
   "source": [
    "y_pred=pipeline.predict(X_test)"
   ]
  },
  {
   "cell_type": "code",
   "execution_count": 19,
   "metadata": {},
   "outputs": [
    {
     "name": "stderr",
     "output_type": "stream",
     "text": [
      "C:\\Users\\binwan\\AppData\\Local\\Continuum\\anaconda3\\envs\\aind\\lib\\site-packages\\sklearn\\metrics\\classification.py:1135: UndefinedMetricWarning: Precision and F-score are ill-defined and being set to 0.0 in labels with no predicted samples.\n",
      "  'precision', 'predicted', average, warn_for)\n",
      "C:\\Users\\binwan\\AppData\\Local\\Continuum\\anaconda3\\envs\\aind\\lib\\site-packages\\sklearn\\metrics\\classification.py:1137: UndefinedMetricWarning: Recall and F-score are ill-defined and being set to 0.0 in labels with no true samples.\n",
      "  'recall', 'true', average, warn_for)\n"
     ]
    },
    {
     "name": "stdout",
     "output_type": "stream",
     "text": [
      "related\n",
      " Accuracy:  0.8209   % Precision: 0.8395   % Recall 0.9460 \n",
      "request\n",
      " Accuracy:  0.8972   % Precision: 0.8438   % Recall 0.4848 \n",
      "offer\n",
      " Accuracy:  0.9954   % Precision: 0.0000   % Recall 0.0000 \n",
      "aid_related\n",
      " Accuracy:  0.7850   % Precision: 0.7682   % Recall 0.6862 \n",
      "medical_help\n",
      " Accuracy:  0.9220   % Precision: 0.7600   % Recall 0.0874 \n",
      "medical_products\n",
      " Accuracy:  0.9498   % Precision: 0.7667   % Recall 0.0824 \n",
      "search_and_rescue\n",
      " Accuracy:  0.9741   % Precision: 0.5000   % Recall 0.0441 \n",
      "security\n",
      " Accuracy:  0.9815   % Precision: 0.3333   % Recall 0.0104 \n",
      "military\n",
      " Accuracy:  0.9712   % Precision: 0.7692   % Recall 0.0633 \n",
      "child_alone\n",
      " Accuracy:  1.0000   % Precision: 0.0000   % Recall 0.0000 \n",
      "water\n",
      " Accuracy:  0.9578   % Precision: 0.8608   % Recall 0.4060 \n",
      "food\n",
      " Accuracy:  0.9485   % Precision: 0.8601   % Recall 0.6421 \n",
      "shelter\n",
      " Accuracy:  0.9397   % Precision: 0.8363   % Recall 0.4038 \n",
      "clothing\n",
      " Accuracy:  0.9880   % Precision: 0.8889   % Recall 0.1143 \n",
      "money\n",
      " Accuracy:  0.9800   % Precision: 0.8889   % Recall 0.0714 \n",
      "missing_people\n",
      " Accuracy:  0.9880   % Precision: 0.0000   % Recall 0.0000 \n",
      "refugees\n",
      " Accuracy:  0.9670   % Precision: 0.2000   % Recall 0.0059 \n",
      "death\n",
      " Accuracy:  0.9584   % Precision: 0.8537   % Recall 0.1417 \n",
      "other_aid\n",
      " Accuracy:  0.8684   % Precision: 0.5250   % Recall 0.0303 \n",
      "infrastructure_related\n",
      " Accuracy:  0.9359   % Precision: 0.0000   % Recall 0.0000 \n",
      "transport\n",
      " Accuracy:  0.9567   % Precision: 0.6818   % Recall 0.0638 \n",
      "buildings\n",
      " Accuracy:  0.9535   % Precision: 0.8205   % Recall 0.1190 \n",
      "electricity\n",
      " Accuracy:  0.9788   % Precision: 1.0000   % Recall 0.0348 \n",
      "tools\n",
      " Accuracy:  0.9933   % Precision: 0.0000   % Recall 0.0000 \n",
      "hospitals\n",
      " Accuracy:  0.9899   % Precision: 0.0000   % Recall 0.0000 \n",
      "shops\n",
      " Accuracy:  0.9952   % Precision: 0.0000   % Recall 0.0000 \n",
      "aid_centers\n",
      " Accuracy:  0.9878   % Precision: 0.0000   % Recall 0.0000 \n",
      "other_infrastructure\n",
      " Accuracy:  0.9571   % Precision: 0.0000   % Recall 0.0000 \n",
      "weather_related\n",
      " Accuracy:  0.8837   % Precision: 0.8527   % Recall 0.7079 \n",
      "floods\n",
      " Accuracy:  0.9525   % Precision: 0.9136   % Recall 0.4664 \n",
      "storm\n",
      " Accuracy:  0.9455   % Precision: 0.7915   % Recall 0.5470 \n",
      "fire\n",
      " Accuracy:  0.9901   % Precision: 1.0000   % Recall 0.0189 \n",
      "earthquake\n",
      " Accuracy:  0.9693   % Precision: 0.8815   % Recall 0.7942 \n",
      "cold\n",
      " Accuracy:  0.9813   % Precision: 0.7500   % Recall 0.0865 \n",
      "other_weather\n",
      " Accuracy:  0.9504   % Precision: 0.7692   % Recall 0.0375 \n",
      "direct_report\n",
      " Accuracy:  0.8581   % Precision: 0.8023   % Recall 0.3495 \n",
      "label ranking average precision: 0.709051771530752\n"
     ]
    }
   ],
   "source": [
    "display_results(y_test, y_pred)"
   ]
  },
  {
   "cell_type": "code",
   "execution_count": 20,
   "metadata": {},
   "outputs": [
    {
     "data": {
      "text/plain": [
       "{'clf': MultiOutputClassifier(estimator=RandomForestClassifier(bootstrap=True, class_weight=None, criterion='gini',\n",
       "             max_depth=None, max_features='auto', max_leaf_nodes=None,\n",
       "             min_impurity_decrease=0.0, min_impurity_split=None,\n",
       "             min_samples_leaf=1, min_samples_split=2,\n",
       "             min_weight_fraction_leaf=0.0, n_estimators=200, n_jobs=1,\n",
       "             oob_score=False, random_state=None, verbose=0,\n",
       "             warm_start=False),\n",
       "            n_jobs=1),\n",
       " 'clf__estimator': RandomForestClassifier(bootstrap=True, class_weight=None, criterion='gini',\n",
       "             max_depth=None, max_features='auto', max_leaf_nodes=None,\n",
       "             min_impurity_decrease=0.0, min_impurity_split=None,\n",
       "             min_samples_leaf=1, min_samples_split=2,\n",
       "             min_weight_fraction_leaf=0.0, n_estimators=200, n_jobs=1,\n",
       "             oob_score=False, random_state=None, verbose=0,\n",
       "             warm_start=False),\n",
       " 'clf__estimator__bootstrap': True,\n",
       " 'clf__estimator__class_weight': None,\n",
       " 'clf__estimator__criterion': 'gini',\n",
       " 'clf__estimator__max_depth': None,\n",
       " 'clf__estimator__max_features': 'auto',\n",
       " 'clf__estimator__max_leaf_nodes': None,\n",
       " 'clf__estimator__min_impurity_decrease': 0.0,\n",
       " 'clf__estimator__min_impurity_split': None,\n",
       " 'clf__estimator__min_samples_leaf': 1,\n",
       " 'clf__estimator__min_samples_split': 2,\n",
       " 'clf__estimator__min_weight_fraction_leaf': 0.0,\n",
       " 'clf__estimator__n_estimators': 200,\n",
       " 'clf__estimator__n_jobs': 1,\n",
       " 'clf__estimator__oob_score': False,\n",
       " 'clf__estimator__random_state': None,\n",
       " 'clf__estimator__verbose': 0,\n",
       " 'clf__estimator__warm_start': False,\n",
       " 'clf__n_jobs': 1,\n",
       " 'memory': None,\n",
       " 'steps': [('vect',\n",
       "   TfidfVectorizer(analyzer='word', binary=False, decode_error='strict',\n",
       "           dtype=<class 'numpy.int64'>, encoding='utf-8', input='content',\n",
       "           lowercase=True, max_df=1.0, max_features=None, min_df=1,\n",
       "           ngram_range=(1, 1), norm='l2', preprocessor=None, smooth_idf=True,\n",
       "           stop_words=None, strip_accents=None, sublinear_tf=False,\n",
       "           token_pattern='(?u)\\\\b\\\\w\\\\w+\\\\b',\n",
       "           tokenizer=<function tokenize at 0x000000000BBE50D0>, use_idf=True,\n",
       "           vocabulary=None)),\n",
       "  ('clf',\n",
       "   MultiOutputClassifier(estimator=RandomForestClassifier(bootstrap=True, class_weight=None, criterion='gini',\n",
       "               max_depth=None, max_features='auto', max_leaf_nodes=None,\n",
       "               min_impurity_decrease=0.0, min_impurity_split=None,\n",
       "               min_samples_leaf=1, min_samples_split=2,\n",
       "               min_weight_fraction_leaf=0.0, n_estimators=200, n_jobs=1,\n",
       "               oob_score=False, random_state=None, verbose=0,\n",
       "               warm_start=False),\n",
       "              n_jobs=1))],\n",
       " 'vect': TfidfVectorizer(analyzer='word', binary=False, decode_error='strict',\n",
       "         dtype=<class 'numpy.int64'>, encoding='utf-8', input='content',\n",
       "         lowercase=True, max_df=1.0, max_features=None, min_df=1,\n",
       "         ngram_range=(1, 1), norm='l2', preprocessor=None, smooth_idf=True,\n",
       "         stop_words=None, strip_accents=None, sublinear_tf=False,\n",
       "         token_pattern='(?u)\\\\b\\\\w\\\\w+\\\\b',\n",
       "         tokenizer=<function tokenize at 0x000000000BBE50D0>, use_idf=True,\n",
       "         vocabulary=None),\n",
       " 'vect__analyzer': 'word',\n",
       " 'vect__binary': False,\n",
       " 'vect__decode_error': 'strict',\n",
       " 'vect__dtype': numpy.int64,\n",
       " 'vect__encoding': 'utf-8',\n",
       " 'vect__input': 'content',\n",
       " 'vect__lowercase': True,\n",
       " 'vect__max_df': 1.0,\n",
       " 'vect__max_features': None,\n",
       " 'vect__min_df': 1,\n",
       " 'vect__ngram_range': (1, 1),\n",
       " 'vect__norm': 'l2',\n",
       " 'vect__preprocessor': None,\n",
       " 'vect__smooth_idf': True,\n",
       " 'vect__stop_words': None,\n",
       " 'vect__strip_accents': None,\n",
       " 'vect__sublinear_tf': False,\n",
       " 'vect__token_pattern': '(?u)\\\\b\\\\w\\\\w+\\\\b',\n",
       " 'vect__tokenizer': <function __main__.tokenize>,\n",
       " 'vect__use_idf': True,\n",
       " 'vect__vocabulary': None}"
      ]
     },
     "execution_count": 20,
     "metadata": {},
     "output_type": "execute_result"
    }
   ],
   "source": [
    "pipeline.get_params()"
   ]
  },
  {
   "cell_type": "code",
   "execution_count": 23,
   "metadata": {},
   "outputs": [
    {
     "name": "stdout",
     "output_type": "stream",
     "text": [
      "{'clf__estimator__min_samples_leaf': 1, 'clf__estimator__max_features': 'auto', 'vect__smooth_idf': True}\n"
     ]
    },
    {
     "data": {
      "text/plain": [
       "{'clf': MultiOutputClassifier(estimator=RandomForestClassifier(bootstrap=True, class_weight=None, criterion='gini',\n",
       "             max_depth=None, max_features='auto', max_leaf_nodes=None,\n",
       "             min_impurity_decrease=0.0, min_impurity_split=None,\n",
       "             min_samples_leaf=1, min_samples_split=2,\n",
       "             min_weight_fraction_leaf=0.0, n_estimators=200, n_jobs=1,\n",
       "             oob_score=False, random_state=20, verbose=0, warm_start=False),\n",
       "            n_jobs=1),\n",
       " 'clf__estimator': RandomForestClassifier(bootstrap=True, class_weight=None, criterion='gini',\n",
       "             max_depth=None, max_features='auto', max_leaf_nodes=None,\n",
       "             min_impurity_decrease=0.0, min_impurity_split=None,\n",
       "             min_samples_leaf=1, min_samples_split=2,\n",
       "             min_weight_fraction_leaf=0.0, n_estimators=200, n_jobs=1,\n",
       "             oob_score=False, random_state=20, verbose=0, warm_start=False),\n",
       " 'clf__estimator__bootstrap': True,\n",
       " 'clf__estimator__class_weight': None,\n",
       " 'clf__estimator__criterion': 'gini',\n",
       " 'clf__estimator__max_depth': None,\n",
       " 'clf__estimator__max_features': 'auto',\n",
       " 'clf__estimator__max_leaf_nodes': None,\n",
       " 'clf__estimator__min_impurity_decrease': 0.0,\n",
       " 'clf__estimator__min_impurity_split': None,\n",
       " 'clf__estimator__min_samples_leaf': 1,\n",
       " 'clf__estimator__min_samples_split': 2,\n",
       " 'clf__estimator__min_weight_fraction_leaf': 0.0,\n",
       " 'clf__estimator__n_estimators': 200,\n",
       " 'clf__estimator__n_jobs': 1,\n",
       " 'clf__estimator__oob_score': False,\n",
       " 'clf__estimator__random_state': 20,\n",
       " 'clf__estimator__verbose': 0,\n",
       " 'clf__estimator__warm_start': False,\n",
       " 'clf__n_jobs': 1,\n",
       " 'memory': None,\n",
       " 'steps': [('vect',\n",
       "   TfidfVectorizer(analyzer='word', binary=False, decode_error='strict',\n",
       "           dtype=<class 'numpy.int64'>, encoding='utf-8', input='content',\n",
       "           lowercase=True, max_df=1.0, max_features=None, min_df=1,\n",
       "           ngram_range=(1, 1), norm='l2', preprocessor=None, smooth_idf=True,\n",
       "           stop_words=None, strip_accents=None, sublinear_tf=False,\n",
       "           token_pattern='(?u)\\\\b\\\\w\\\\w+\\\\b',\n",
       "           tokenizer=<function tokenize at 0x000000000D40D488>, use_idf=True,\n",
       "           vocabulary=None)),\n",
       "  ('clf',\n",
       "   MultiOutputClassifier(estimator=RandomForestClassifier(bootstrap=True, class_weight=None, criterion='gini',\n",
       "               max_depth=None, max_features='auto', max_leaf_nodes=None,\n",
       "               min_impurity_decrease=0.0, min_impurity_split=None,\n",
       "               min_samples_leaf=1, min_samples_split=2,\n",
       "               min_weight_fraction_leaf=0.0, n_estimators=200, n_jobs=1,\n",
       "               oob_score=False, random_state=20, verbose=0, warm_start=False),\n",
       "              n_jobs=1))],\n",
       " 'vect': TfidfVectorizer(analyzer='word', binary=False, decode_error='strict',\n",
       "         dtype=<class 'numpy.int64'>, encoding='utf-8', input='content',\n",
       "         lowercase=True, max_df=1.0, max_features=None, min_df=1,\n",
       "         ngram_range=(1, 1), norm='l2', preprocessor=None, smooth_idf=True,\n",
       "         stop_words=None, strip_accents=None, sublinear_tf=False,\n",
       "         token_pattern='(?u)\\\\b\\\\w\\\\w+\\\\b',\n",
       "         tokenizer=<function tokenize at 0x000000000D40D488>, use_idf=True,\n",
       "         vocabulary=None),\n",
       " 'vect__analyzer': 'word',\n",
       " 'vect__binary': False,\n",
       " 'vect__decode_error': 'strict',\n",
       " 'vect__dtype': numpy.int64,\n",
       " 'vect__encoding': 'utf-8',\n",
       " 'vect__input': 'content',\n",
       " 'vect__lowercase': True,\n",
       " 'vect__max_df': 1.0,\n",
       " 'vect__max_features': None,\n",
       " 'vect__min_df': 1,\n",
       " 'vect__ngram_range': (1, 1),\n",
       " 'vect__norm': 'l2',\n",
       " 'vect__preprocessor': None,\n",
       " 'vect__smooth_idf': True,\n",
       " 'vect__stop_words': None,\n",
       " 'vect__strip_accents': None,\n",
       " 'vect__sublinear_tf': False,\n",
       " 'vect__token_pattern': '(?u)\\\\b\\\\w\\\\w+\\\\b',\n",
       " 'vect__tokenizer': <function __main__.tokenize>,\n",
       " 'vect__use_idf': True,\n",
       " 'vect__vocabulary': None}"
      ]
     },
     "execution_count": 23,
     "metadata": {},
     "output_type": "execute_result"
    }
   ],
   "source": [
    "from sklearn.externals import joblib\n",
    "model = joblib.load(\"workspace/models/classifier.pkl\")\n",
    "print(model.best_params_)\n",
    "p1=model.best_estimator_\n",
    "p1.get_params()"
   ]
  },
  {
   "cell_type": "markdown",
   "metadata": {},
   "source": [
    "    pipeline = Pipeline([\n",
    "        ('vect',TfidfVectorizer(tokenizer=tokenize)),\n",
    "        ('clf', MultiOutputClassifier(RandomForestClassifier(n_estimators=200,random_state=20)))\n",
    "    ])\n",
    "    parameters = {\n",
    "        'clf__estimator__min_samples_leaf': [1,10],\n",
    "        'clf__estimator__max_features': ['auto','log2'],\n",
    "        'vect__smooth_idf':[True]\n",
    "    }\n",
    "    \n"
   ]
  },
  {
   "cell_type": "markdown",
   "metadata": {},
   "source": [
    "### 6. Improve your model\n",
    "Use grid search to find better parameters. "
   ]
  },
  {
   "cell_type": "code",
   "execution_count": null,
   "metadata": {},
   "outputs": [],
   "source": [
    "parameters = {\n",
    "    'clf__estimator__min_samples_leaf': [1,10],\n",
    "    'clf__estimator__max_features': ['auto','log2'],\n",
    "    'vect__smooth_idf':[True]\n",
    "}\n",
    "\n",
    "# create grid search object\n",
    "cv = GridSearchCV(pipeline, param_grid=parameters,n_jobs=-1)"
   ]
  },
  {
   "cell_type": "markdown",
   "metadata": {},
   "source": [
    "parameters_bak = {\n",
    "    'clf__estimator__n_estimators': [200,100],\n",
    "    'clf__estimator__max_depth': [3,15],\n",
    "    'clf__estimator__min_samples_leaf': [1,8],\n",
    "    'vect__smooth_idf': [True,False],\n",
    "    'vect__sublinear_tf':[True,False]\n",
    "}"
   ]
  },
  {
   "cell_type": "code",
   "execution_count": null,
   "metadata": {},
   "outputs": [],
   "source": [
    "cv.fit(X_train, y_train)\n",
    "y_pred = cv.predict(X_test)   "
   ]
  },
  {
   "cell_type": "markdown",
   "metadata": {},
   "source": [
    "### 7. Test your model\n",
    "Show the accuracy, precision, and recall of the tuned model.  \n",
    "\n",
    "Since this project focuses on code quality, process, and  pipelines, there is no minimum performance metric needed to pass. However, make sure to fine tune your models for accuracy, precision and recall to make your project stand out - especially for your portfolio!"
   ]
  },
  {
   "cell_type": "code",
   "execution_count": null,
   "metadata": {},
   "outputs": [],
   "source": [
    "display_results(y_test, y_pred)"
   ]
  },
  {
   "cell_type": "markdown",
   "metadata": {},
   "source": [
    "### 8. Try improving your model further. Here are a few ideas:\n",
    "* try other machine learning algorithms\n",
    "* add other features besides the TF-IDF"
   ]
  },
  {
   "cell_type": "code",
   "execution_count": null,
   "metadata": {
    "collapsed": true
   },
   "outputs": [],
   "source": [
    "pipeline = Pipeline([\n",
    "    ('vect',TfidfVectorizer(tokenizer=tokenize)),\n",
    "    ('clf',  MultiOutputClassifier(AdaBoostClassifier()))\n",
    "])"
   ]
  },
  {
   "cell_type": "code",
   "execution_count": null,
   "metadata": {},
   "outputs": [],
   "source": [
    "pipeline.get_params()"
   ]
  },
  {
   "cell_type": "code",
   "execution_count": null,
   "metadata": {
    "collapsed": true
   },
   "outputs": [],
   "source": [
    "parameters = {\n",
    "    'vect__smooth_idf': [True,False],\n",
    "}\n",
    "# create grid search object\n",
    "cv = GridSearchCV(pipeline, param_grid=parameters,n_jobs=-1)\n",
    "cv.fit(X_train, y_train)\n",
    "y_pred = cv.predict(X_test)   \n",
    "display_results(y_test, y_pred)"
   ]
  },
  {
   "cell_type": "markdown",
   "metadata": {},
   "source": [
    "### 9. Export your model as a pickle file"
   ]
  },
  {
   "cell_type": "code",
   "execution_count": null,
   "metadata": {
    "collapsed": true
   },
   "outputs": [],
   "source": [
    "with open('classifer.pkl', 'wb') as f:\n",
    "    pickle.dump(cv, f)\n"
   ]
  },
  {
   "cell_type": "markdown",
   "metadata": {},
   "source": [
    "### 10. Use this notebook to complete `train.py`\n",
    "Use the template file attached in the Resources folder to write a script that runs the steps above to create a database and export a model based on a new dataset specified by the user."
   ]
  },
  {
   "cell_type": "code",
   "execution_count": 21,
   "metadata": {},
   "outputs": [
    {
     "name": "stdout",
     "output_type": "stream",
     "text": [
      "[nltk_data] Downloading package punkt to\n",
      "[nltk_data]     C:\\Users\\binwan\\AppData\\Roaming\\nltk_data...\n",
      "[nltk_data]   Package punkt is already up-to-date!\n",
      "[nltk_data] Downloading package stopwords to\n",
      "[nltk_data]     C:\\Users\\binwan\\AppData\\Roaming\\nltk_data...\n",
      "[nltk_data]   Package stopwords is already up-to-date!\n",
      "[nltk_data] Downloading package wordnet to\n",
      "[nltk_data]     C:\\Users\\binwan\\AppData\\Roaming\\nltk_data...\n",
      "[nltk_data]   Package wordnet is already up-to-date!\n"
     ]
    },
    {
     "data": {
      "text/plain": [
       "True"
      ]
     },
     "execution_count": 21,
     "metadata": {},
     "output_type": "execute_result"
    }
   ],
   "source": [
    "import pandas as pd\n",
    "import numpy as np\n",
    "from sqlalchemy import create_engine\n",
    "import sys\n",
    "import re\n",
    "import pickle\n",
    "import nltk\n",
    "from nltk.tokenize import word_tokenize,sent_tokenize\n",
    "from nltk.stem import WordNetLemmatizer\n",
    "from nltk.corpus import stopwords\n",
    "from sklearn.metrics import confusion_matrix\n",
    "from sklearn.model_selection import train_test_split\n",
    "from sklearn.tree import DecisionTreeClassifier\n",
    "from sklearn.ensemble import RandomForestClassifier,AdaBoostClassifier\n",
    "from sklearn.naive_bayes import MultinomialNB\n",
    "from sklearn.feature_extraction.text import CountVectorizer, TfidfTransformer, TfidfVectorizer\n",
    "from sklearn.multioutput import MultiOutputClassifier\n",
    "from sklearn.pipeline import Pipeline\n",
    "from sklearn.metrics import precision_recall_fscore_support,accuracy_score\n",
    "from sklearn.model_selection  import GridSearchCV\n",
    "\n",
    "nltk.download(['punkt','stopwords','wordnet'])"
   ]
  },
  {
   "cell_type": "code",
   "execution_count": 22,
   "metadata": {},
   "outputs": [],
   "source": [
    "\n",
    "def load_data(db_path='workspace/data/DisasterResponse.db',tablename='disastertab'):\n",
    "    \"\"\"\n",
    "    Function: load data from database and return X and y.\n",
    "    Args:\n",
    "      db_path(str): database file name included path\n",
    "      tablename:(str): table name in the database file.\n",
    "    Return:\n",
    "      X(pd.DataFrame): messages for X\n",
    "      y(pd.DataFrame): labels part in messages for y\n",
    "    \"\"\"\n",
    "    # load data from database\n",
    "    engine = create_engine('sqlite:///'+db_path)\n",
    "    df=pd.read_sql('SELECT * from '+tablename, engine)\n",
    "    X = df['message']\n",
    "    # result is multiple classifty.\n",
    "    y = df.iloc[:,4:]\n",
    "    return X, y\n",
    "\n",
    "def tokenize(text):\n",
    "    \"\"\"\n",
    "    Function: tokenize the text\n",
    "    Args:  source string\n",
    "    Return:\n",
    "    clean_tokens(str list): clean string list\n",
    "    \n",
    "    \"\"\"\n",
    "    #normalize text\n",
    "    text = re.sub(r'[^a-zA-Z0-9]',' ',text.lower())\n",
    "    \n",
    "    #token messages\n",
    "    words = word_tokenize(text)\n",
    "    tokens = [w for w in words if w not in stopwords.words(\"english\")]\n",
    "    \n",
    "    #sterm and lemmatizer\n",
    "    lemmatizer = WordNetLemmatizer()\n",
    "    clean_tokens = []\n",
    "    for tok in tokens:\n",
    "        clean_tok = lemmatizer.lemmatize(tok).strip()\n",
    "        clean_tokens.append(clean_tok)\n",
    "\n",
    "    return clean_tokens\n",
    "\n",
    "def build_model(): \n",
    "    \"\"\"\n",
    "    Function: build model that consist of pipeline\n",
    "    Args:\n",
    "      N/A\n",
    "    Return\n",
    "      cv(model): Grid Search model \n",
    "    \"\"\"\n",
    "    \n",
    "    pipeline = Pipeline([\n",
    "        ('vect',TfidfVectorizer(tokenizer=tokenize)),\n",
    "        ('clf', MultiOutputClassifier(RandomForestClassifier(n_estimators=200,random_state=20)))\n",
    "    ]) \n",
    "    \n",
    "    parameters = {\n",
    "        'clf__estimator__criterion':['entropy']\n",
    "    }\n",
    "    \n",
    "    # create grid search object\n",
    "    cv = GridSearchCV(pipeline, param_grid=parameters,n_jobs=-1)\n",
    "    return cv\n",
    "\n",
    "def evaluate_model(y_test, y_pred):\n",
    "    result=precision_recall_fscore_support(Y_test, y_pred)\n",
    "    for i, col in enumerate(category_names):\n",
    "        accu=accuracy_score(Y_test.loc[:,col],y_pred[:,i])\n",
    "        print('{}\\n Accuracy: {:.4f}    % Precision: {:.4f}   % Recall {:.4f} '.format(\n",
    "            col,accu,result[0][i],result[1][i]))\n",
    "    \n",
    "def save_model(cv):\n",
    "    \"\"\"\n",
    "    Function: save model as pickle file.\n",
    "    Args:\n",
    "      cv:target model\n",
    "    Return:\n",
    "      N/A\n",
    "    \"\"\"\n",
    "    with open('classifer.pkl', 'wb') as f:\n",
    "        pickle.dump(cv, f)    \n",
    "def main(): \n",
    "    print(\"Load data\")\n",
    "    X,y=load_data()\n",
    "    X_train,X_test,y_train,y_test=train_test_split(X,y,test_size=0.2, random_state=42)\n",
    "    print(\"Build model\")\n",
    "    model=build_model()\n",
    "    print(\"Train model\")\n",
    "    model.fit(X_train,y_train)\n",
    "    y_pred=model.predict(X_test)\n",
    "    print(\"Evaluation model\")\n",
    "    evaluate_model(y_test, y_pred)\n",
    "    print(\"Save model\")\n",
    "    save_model(model)\n"
   ]
  },
  {
   "cell_type": "code",
   "execution_count": null,
   "metadata": {},
   "outputs": [],
   "source": [
    "if __name__ == \"__main__\":\n",
    "    main()"
   ]
  }
 ],
 "metadata": {
  "kernelspec": {
   "display_name": "Python 3",
   "language": "python",
   "name": "python3"
  },
  "language_info": {
   "codemirror_mode": {
    "name": "ipython",
    "version": 3
   },
   "file_extension": ".py",
   "mimetype": "text/x-python",
   "name": "python",
   "nbconvert_exporter": "python",
   "pygments_lexer": "ipython3",
   "version": "3.7.6"
  }
 },
 "nbformat": 4,
 "nbformat_minor": 2
}
